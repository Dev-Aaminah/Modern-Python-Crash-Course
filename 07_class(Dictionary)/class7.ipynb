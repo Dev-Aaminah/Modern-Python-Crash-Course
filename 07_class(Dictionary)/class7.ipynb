{
 "cells": [
  {
   "cell_type": "markdown",
   "metadata": {},
   "source": [
    "***In the context of the Python code snippet , the use of curly braces {} does not represent a dictionary; it specifically represents a set. The distinction between sets and dictionaries in Python is characterized by what is included within the curly braces:***\n",
    "\n",
    "* Sets: When you see curly braces containing values without key-value pairs, it's a set. For example, {1, 2, 3} is a set containing three integers.\n",
    "  \n",
    "* Dictionaries: When you see curly braces containing key-value pairs separated by colons, it's a dictionary. For example, {'a': 1, 'b': 2} is a dictionary with keys 'a' and 'b' and values 1 and 2 respectively."
   ]
  },
  {
   "cell_type": "code",
   "execution_count": 3,
   "metadata": {},
   "outputs": [
    {
     "name": "stdout",
     "output_type": "stream",
     "text": [
      "{1, 3, 4, 5, 6}\n"
     ]
    }
   ],
   "source": [
    "data : set = {1,1,3,4,6,3,5}\n",
    "print(data)"
   ]
  },
  {
   "cell_type": "markdown",
   "metadata": {},
   "source": [
    "### Here's how it operates:\n",
    "\n",
    "* Set Initialization: When you use the curly braces {} to create a set, Python automatically ensures that all elements within are unique. Even though you've specified the number 1 multiple times and the number 2 more than once, each of these numbers will appear only once in the set.\n",
    "\n",
    "* Uniqueness: Sets automatically remove any duplicate entries. Therefore, despite entering multiple 1s and 2s, each number only appears once in the final set."
   ]
  },
  {
   "cell_type": "code",
   "execution_count": 5,
   "metadata": {},
   "outputs": [
    {
     "ename": "TypeError",
     "evalue": "'set' object is not subscriptable",
     "output_type": "error",
     "traceback": [
      "\u001b[1;31m---------------------------------------------------------------------------\u001b[0m",
      "\u001b[1;31mTypeError\u001b[0m                                 Traceback (most recent call last)",
      "Cell \u001b[1;32mIn[5], line 1\u001b[0m\n\u001b[1;32m----> 1\u001b[0m \u001b[38;5;28mprint\u001b[39m(\u001b[43mdata\u001b[49m\u001b[43m[\u001b[49m\u001b[38;5;241;43m1\u001b[39;49m\u001b[43m]\u001b[49m)\n",
      "\u001b[1;31mTypeError\u001b[0m: 'set' object is not subscriptable"
     ]
    }
   ],
   "source": [
    "print(data[1])"
   ]
  },
  {
   "cell_type": "markdown",
   "metadata": {},
   "source": [
    "### Dictionary\n",
    "\n",
    "* key:value(items)\n",
    "    - key replacement of indexes\n",
    "    - value item\n",
    "* dict_variable[key]\n",
    "\n",
    "    - dict_variable[new_key] = new_value\n",
    "        - add new value\n",
    "        - update value"
   ]
  },
  {
   "cell_type": "code",
   "execution_count": 3,
   "metadata": {},
   "outputs": [
    {
     "name": "stdout",
     "output_type": "stream",
     "text": [
      "{'age': '35', 'degree': 'Masters in Political Science', 'name': 'Aasia'}\n"
     ]
    }
   ],
   "source": [
    "from typing import Dict\n",
    "import pprint\n",
    "\n",
    "data : Dict[str, str] = {\n",
    "    \"name\": \"Aasia\",\n",
    "    \"degree\": \"Masters in Political Science\",\n",
    "    \"age\": \"35\"\n",
    "}\n",
    "\n",
    "pprint.pprint(data)"
   ]
  },
  {
   "cell_type": "markdown",
   "metadata": {},
   "source": [
    "In Python, Dict (with a capital \"D\") from the typing module and dict (with a lowercase \"d\") are used for different purposes:\n",
    "\n",
    "* dict (lowercase \"d\"):\n",
    "    - This is the built-in Python dictionary type, which is a mutable, unordered collection of key-value pairs. You can create and manipulate dictionaries directly with dict.\n",
    "* Dict (uppercase \"D\") from typing:\n",
    "    - This is used for type hinting, which is a feature introduced in Python 3.5. Type hinting helps with static type checking and improving code readability. When you use Dict from typing, you can specify the types of the keys and values that the dictionary will contain."
   ]
  },
  {
   "cell_type": "code",
   "execution_count": 6,
   "metadata": {},
   "outputs": [
    {
     "name": "stdout",
     "output_type": "stream",
     "text": [
      "{'name': 'Aaminah', 'age': 27, 'uni': 'VU'}\n"
     ]
    }
   ],
   "source": [
    "from typing import Dict, Union, Optional\n",
    "\n",
    "key = Union[int, str] # create custom type\n",
    "value = Union[int, str, list, dict, tuple, set]\n",
    "\n",
    "data : Dict[key, value] = {\n",
    "    \"name\": \"Aaminah\",\n",
    "    \"age\": 27,\n",
    "    \"uni\": 'VU'\n",
    "}\n",
    "\n",
    "print(data)"
   ]
  },
  {
   "cell_type": "code",
   "execution_count": 7,
   "metadata": {},
   "outputs": [
    {
     "name": "stdout",
     "output_type": "stream",
     "text": [
      "{'age': 27, 'name': 'Aaminah', 'uni': 'VU'}\n"
     ]
    }
   ],
   "source": [
    "from typing import Dict, Union, Optional\n",
    "import pprint\n",
    "\n",
    "key = Union[int, str] # create custom type\n",
    "value = Union[int, str, list, dict, tuple, set]\n",
    "\n",
    "data : Dict[key, value] = {\n",
    "    \"name\": \"Aaminah\",\n",
    "    \"age\": 27,\n",
    "    \"uni\": 'VU'\n",
    "}\n",
    "\n",
    "pprint.pprint(data)"
   ]
  }
 ],
 "metadata": {
  "kernelspec": {
   "display_name": "python12",
   "language": "python",
   "name": "python3"
  },
  "language_info": {
   "codemirror_mode": {
    "name": "ipython",
    "version": 3
   },
   "file_extension": ".py",
   "mimetype": "text/x-python",
   "name": "python",
   "nbconvert_exporter": "python",
   "pygments_lexer": "ipython3",
   "version": "3.12.3"
  }
 },
 "nbformat": 4,
 "nbformat_minor": 2
}
