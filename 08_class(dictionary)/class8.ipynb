{
 "cells": [
  {
   "cell_type": "code",
   "execution_count": 1,
   "metadata": {},
   "outputs": [
    {
     "name": "stdout",
     "output_type": "stream",
     "text": [
      "['clear', 'copy', 'fromkeys', 'get', 'items', 'keys', 'pop', 'popitem', 'setdefault', 'update', 'values']\n"
     ]
    }
   ],
   "source": [
    "from typing import Dict, Union, Optional\n",
    "import pprint\n",
    "\n",
    "\n",
    "Key = Union[int,str] # create custom type\n",
    "Value = Union[int, str, list, dict, tuple, set]\n",
    "\n",
    "data : Dict[Key,Value] = {\n",
    "                        \"fname\":\"Muhammad Aslam\",\n",
    "                        \"name\":\"Muhammad Qasim\",\n",
    "                        \"education\": \"MSDS\"}\n",
    "\n",
    "\n",
    "methods : list[str] = [m for m in dir(data) if \"__\" not in m]\n",
    "print(methods)"
   ]
  },
  {
   "cell_type": "code",
   "execution_count": 4,
   "metadata": {},
   "outputs": [
    {
     "name": "stdout",
     "output_type": "stream",
     "text": [
      "Before {'name': 'Aaminah', 'degree': 'BSSE'}\n",
      "After {}\n"
     ]
    }
   ],
   "source": [
    "from typing import Dict , Union, Optional\n",
    "import pprint\n",
    "\n",
    "Key = Union[int, str] #create custom type\n",
    "Value = Union[int, str, list, dict, tuple, set]\n",
    "\n",
    "data : Dict[Key, Value] = {\n",
    "    \"name\": \"Aaminah\",\n",
    "    \"degree\": \"BSSE\"\n",
    "}\n",
    "\n",
    "print(\"Before\", data)\n",
    "\n",
    "data.clear()\n",
    "print(\"After\", data)"
   ]
  },
  {
   "cell_type": "code",
   "execution_count": 5,
   "metadata": {},
   "outputs": [
    {
     "name": "stdout",
     "output_type": "stream",
     "text": [
      "Before {'name': 'Aaminah', 'degree': 'BSSE'}\n"
     ]
    },
    {
     "ename": "NameError",
     "evalue": "name 'data' is not defined",
     "output_type": "error",
     "traceback": [
      "\u001b[1;31m---------------------------------------------------------------------------\u001b[0m",
      "\u001b[1;31mNameError\u001b[0m                                 Traceback (most recent call last)",
      "Cell \u001b[1;32mIn[5], line 15\u001b[0m\n\u001b[0;32m     12\u001b[0m \u001b[38;5;28mprint\u001b[39m(\u001b[38;5;124m\"\u001b[39m\u001b[38;5;124mBefore\u001b[39m\u001b[38;5;124m\"\u001b[39m, data)\n\u001b[0;32m     14\u001b[0m \u001b[38;5;28;01mdel\u001b[39;00m data\n\u001b[1;32m---> 15\u001b[0m \u001b[38;5;28mprint\u001b[39m(\u001b[38;5;124m\"\u001b[39m\u001b[38;5;124mAfter\u001b[39m\u001b[38;5;124m\"\u001b[39m, \u001b[43mdata\u001b[49m)\n",
      "\u001b[1;31mNameError\u001b[0m: name 'data' is not defined"
     ]
    }
   ],
   "source": [
    "from typing import Dict , Union, Optional\n",
    "import pprint\n",
    "\n",
    "Key = Union[int, str] #create custom type\n",
    "Value = Union[int, str, list, dict, tuple, set]\n",
    "\n",
    "data : Dict[Key, Value] = {\n",
    "    \"name\": \"Aaminah\",\n",
    "    \"degree\": \"BSSE\"\n",
    "}\n",
    "\n",
    "print(\"Before\", data)\n",
    "\n",
    "del data\n",
    "print(\"After\", data)"
   ]
  },
  {
   "cell_type": "code",
   "execution_count": 6,
   "metadata": {},
   "outputs": [
    {
     "name": "stdout",
     "output_type": "stream",
     "text": [
      "Before {'name': 'Aaminah', 'degree': 'BSSE'}\n",
      "After {'name': 'Aaminah'}\n"
     ]
    }
   ],
   "source": [
    "from typing import Dict , Union, Optional\n",
    "import pprint\n",
    "\n",
    "Key = Union[int, str] #create custom type\n",
    "Value = Union[int, str, list, dict, tuple, set]\n",
    "\n",
    "data : Dict[Key, Value] = {\n",
    "    \"name\": \"Aaminah\",\n",
    "    \"degree\": \"BSSE\"\n",
    "}\n",
    "\n",
    "print(\"Before\", data)\n",
    "\n",
    "data.pop(\"degree\")\n",
    "print(\"After\", data)"
   ]
  },
  {
   "cell_type": "code",
   "execution_count": 7,
   "metadata": {},
   "outputs": [
    {
     "name": "stdout",
     "output_type": "stream",
     "text": [
      "Before {'name': 'Aaminah', 'degree': 'BSSE'}\n",
      "('degree', 'BSSE')\n",
      "After {'name': 'Aaminah'}\n"
     ]
    }
   ],
   "source": [
    "from typing import Dict , Union, Optional\n",
    "import pprint\n",
    "\n",
    "Key = Union[int, str] #create custom type\n",
    "Value = Union[int, str, list, dict, tuple, set]\n",
    "\n",
    "data : Dict[Key, Value] = {\n",
    "    \"name\": \"Aaminah\",\n",
    "    \"degree\": \"BSSE\"\n",
    "}\n",
    "\n",
    "print(\"Before\", data)\n",
    "\n",
    "a: str = data.popitem()\n",
    "print(a)\n",
    "\n",
    "print(\"After\", data)"
   ]
  },
  {
   "cell_type": "code",
   "execution_count": 8,
   "metadata": {},
   "outputs": [
    {
     "name": "stdout",
     "output_type": "stream",
     "text": [
      "Before {'name': 'Aaminah', 'degree': 'BSSE'}\n",
      "NA\n",
      "After {'name': 'Aaminah', 'degree': 'BSSE'}\n"
     ]
    }
   ],
   "source": [
    "from typing import Dict , Union, Optional\n",
    "import pprint\n",
    "\n",
    "Key = Union[int, str] #create custom type\n",
    "Value = Union[int, str, list, dict, tuple, set]\n",
    "\n",
    "data : Dict[Key, Value] = {\n",
    "    \"name\": \"Aaminah\",\n",
    "    \"degree\": \"BSSE\"\n",
    "}\n",
    "\n",
    "print(\"Before\", data)\n",
    "\n",
    "a: str = data.get(\"Pakistan\", \"NA\")\n",
    "print(a)\n",
    "\n",
    "print(\"After\", data)"
   ]
  },
  {
   "cell_type": "code",
   "execution_count": 9,
   "metadata": {},
   "outputs": [
    {
     "name": "stdout",
     "output_type": "stream",
     "text": [
      "Before {'name': 'Aaminah', 'degree': 'BSSE'}\n",
      "Empty Value\n",
      "After {'name': 'Aaminah', 'degree': 'BSSE', 'Pakistan': 'Empty Value'}\n"
     ]
    }
   ],
   "source": [
    "from typing import Dict , Union, Optional\n",
    "import pprint\n",
    "\n",
    "Key = Union[int, str] #create custom type\n",
    "Value = Union[int, str, list, dict, tuple, set]\n",
    "\n",
    "data : Dict[Key, Value] = {\n",
    "    \"name\": \"Aaminah\",\n",
    "    \"degree\": \"BSSE\"\n",
    "}\n",
    "\n",
    "print(\"Before\", data)\n",
    "\n",
    "a: str = data.setdefault(\"Pakistan\", \"Empty Value\")\n",
    "print(a)\n",
    "\n",
    "print(\"After\", data)"
   ]
  },
  {
   "cell_type": "code",
   "execution_count": 12,
   "metadata": {},
   "outputs": [
    {
     "name": "stdout",
     "output_type": "stream",
     "text": [
      "{'name': 'Aaminah', 'degree': 'BSSE', 'age': 27, 'University': 'VU'}\n"
     ]
    }
   ],
   "source": [
    "Key = Union[int, str] \n",
    "Value = Union[int, str, list, dict, tuple, set]\n",
    "\n",
    "data : Dict[Key, Value] = {\n",
    "    \"name\": \"Aaminah\",\n",
    "    \"degree\": \"BSSE\"\n",
    "}\n",
    "\n",
    "data1 : Dict[Key, Value] = {\n",
    "    \"age\" : 27,\n",
    "    \"University\": \"VU\"\n",
    "}\n",
    "\n",
    "data.update(data1)\n",
    "print(data)"
   ]
  },
  {
   "cell_type": "code",
   "execution_count": 15,
   "metadata": {},
   "outputs": [
    {
     "name": "stdout",
     "output_type": "stream",
     "text": [
      "   roll no     name class\n",
      "0        1  Minahil    P9\n",
      "1        2    Mahad    P9\n",
      "2        3   Halima    P9\n"
     ]
    }
   ],
   "source": [
    "import pandas as pd\n",
    "from typing import Any\n",
    "\n",
    "\n",
    "student_data : Dict[str, list[Any]] = {\n",
    "    \"roll no\": [ 1,2,3],\n",
    "    \"name\": [\"Minahil\", \"Mahad\", \"Halima\"],\n",
    "    \"class\":[\"P9\",\"P9\",\"P9\"]\n",
    "}\n",
    "\n",
    "data : pd.DataFrame = pd.DataFrame(student_data)\n",
    "print(data)"
   ]
  },
  {
   "cell_type": "code",
   "execution_count": 17,
   "metadata": {},
   "outputs": [
    {
     "name": "stdout",
     "output_type": "stream",
     "text": [
      "Aminah's faviorite language is: Python\n"
     ]
    }
   ],
   "source": [
    "favorite_lang = {\n",
    "    \"Amina\": \"Python\",\n",
    "    \"Sidta\":\"C++\",\n",
    "    \"Hareem\":\"Java\"\n",
    "}\n",
    "\n",
    "lang = favorite_lang[\"Amina\"].title()\n",
    "print(f\"Aminah's faviorite language is: {lang}\")"
   ]
  },
  {
   "cell_type": "code",
   "execution_count": 19,
   "metadata": {},
   "outputs": [
    {
     "name": "stdout",
     "output_type": "stream",
     "text": [
      "Hello Zari\n",
      "\t Hello Zari, I see you live in Karachi\n",
      "Hello Asia\n",
      "Hello Mohsina\n",
      "Hello Sobia\n",
      "\t Hello Sobia, I see you live in Mianwali\n"
     ]
    }
   ],
   "source": [
    "friend_city = {\n",
    "    \"Zari\": \"Karachi\",\n",
    "    \"Asia\": \"Rawalpindi\",\n",
    "    \"Mohsina\": \"Faisalabad\",\n",
    "    \"Sobia\": \"Mianwali\"\n",
    "}\n",
    "\n",
    "best_friends = [\"Sobia\", \"Zari\"]\n",
    "\n",
    "for name in friend_city.keys():\n",
    "    print(f'Hello {name.title()}')\n",
    "    if name in best_friends:\n",
    "        cities = friend_city[name].title()\n",
    "        print(f\"\\t Hello {name.title()}, I see you live in {cities}\")"
   ]
  },
  {
   "cell_type": "code",
   "execution_count": 20,
   "metadata": {},
   "outputs": [
    {
     "name": "stdout",
     "output_type": "stream",
     "text": [
      "True\n",
      "dict_keys(['Zari', 'Asia', 'Mohsina', 'Sobia'])\n"
     ]
    }
   ],
   "source": [
    "print('erin' not in friend_city.keys())\n",
    "print(friend_city.keys())"
   ]
  },
  {
   "cell_type": "code",
   "execution_count": 22,
   "metadata": {},
   "outputs": [
    {
     "name": "stdout",
     "output_type": "stream",
     "text": [
      "Erin, please take our poll!\n"
     ]
    }
   ],
   "source": [
    "if 'erin' not in friend_city.keys():\n",
    "    print(\"Erin, please take our poll!\")"
   ]
  },
  {
   "cell_type": "code",
   "execution_count": 23,
   "metadata": {},
   "outputs": [
    {
     "name": "stdout",
     "output_type": "stream",
     "text": [
      "{'color': 'green', 'points': 5}\n",
      "{'color': 'yellow', 'points': 10}\n",
      "{'color': 'red', 'points': 15}\n"
     ]
    }
   ],
   "source": [
    "alien_0: list[Key, Value] = {'color': 'green', 'points': 5}\n",
    "alien_1: list[Key, Value] = {'color': 'yellow', 'points': 10}\n",
    "alien_2: list[Key, Value] = {'color': 'red', 'points': 15}\n",
    "\n",
    "aliens:list[Dict[str,str]] = [alien_0, alien_1, alien_2]\n",
    "for alien in aliens:\n",
    "    print(alien)"
   ]
  },
  {
   "cell_type": "code",
   "execution_count": 24,
   "metadata": {},
   "outputs": [
    {
     "name": "stdout",
     "output_type": "stream",
     "text": [
      "[]\n",
      "[{'color': 'green', 'points': 5, 'speed': 'slow'},\n",
      " {'color': 'green', 'points': 5, 'speed': 'slow'},\n",
      " {'color': 'green', 'points': 5, 'speed': 'slow'},\n",
      " {'color': 'green', 'points': 5, 'speed': 'slow'},\n",
      " {'color': 'green', 'points': 5, 'speed': 'slow'},\n",
      " {'color': 'green', 'points': 5, 'speed': 'slow'},\n",
      " {'color': 'green', 'points': 5, 'speed': 'slow'},\n",
      " {'color': 'green', 'points': 5, 'speed': 'slow'},\n",
      " {'color': 'green', 'points': 5, 'speed': 'slow'},\n",
      " {'color': 'green', 'points': 5, 'speed': 'slow'},\n",
      " {'color': 'green', 'points': 5, 'speed': 'slow'},\n",
      " {'color': 'green', 'points': 5, 'speed': 'slow'},\n",
      " {'color': 'green', 'points': 5, 'speed': 'slow'},\n",
      " {'color': 'green', 'points': 5, 'speed': 'slow'},\n",
      " {'color': 'green', 'points': 5, 'speed': 'slow'},\n",
      " {'color': 'green', 'points': 5, 'speed': 'slow'},\n",
      " {'color': 'green', 'points': 5, 'speed': 'slow'},\n",
      " {'color': 'green', 'points': 5, 'speed': 'slow'},\n",
      " {'color': 'green', 'points': 5, 'speed': 'slow'},\n",
      " {'color': 'green', 'points': 5, 'speed': 'slow'},\n",
      " {'color': 'green', 'points': 5, 'speed': 'slow'},\n",
      " {'color': 'green', 'points': 5, 'speed': 'slow'},\n",
      " {'color': 'green', 'points': 5, 'speed': 'slow'},\n",
      " {'color': 'green', 'points': 5, 'speed': 'slow'},\n",
      " {'color': 'green', 'points': 5, 'speed': 'slow'},\n",
      " {'color': 'green', 'points': 5, 'speed': 'slow'},\n",
      " {'color': 'green', 'points': 5, 'speed': 'slow'},\n",
      " {'color': 'green', 'points': 5, 'speed': 'slow'},\n",
      " {'color': 'green', 'points': 5, 'speed': 'slow'},\n",
      " {'color': 'green', 'points': 5, 'speed': 'slow'}]\n"
     ]
    }
   ],
   "source": [
    "# Make an empty list for storing aliens.\n",
    "aliens : list[Dict[str,str]] = []\n",
    "import pprint\n",
    "print(aliens)\n",
    "# Make 30 green aliens.\n",
    "for alien_number in range(30):\n",
    "    new_alien = {'color': 'green', 'points': 5, 'speed': 'slow'}\n",
    "    aliens.append(new_alien)\n",
    "pprint.pprint(aliens)"
   ]
  },
  {
   "cell_type": "code",
   "execution_count": 26,
   "metadata": {},
   "outputs": [
    {
     "name": "stdout",
     "output_type": "stream",
     "text": [
      "{'Amina': 'Python', 'Sidta': 'C++', 'Hareem': 'Java'}\n",
      "<class 'dict'>\n"
     ]
    }
   ],
   "source": [
    "favorite_lang = {\n",
    "    \"Amina\": \"Python\",\n",
    "    \"Sidta\":\"C++\",\n",
    "    \"Hareem\":\"Java\"\n",
    "}\n",
    "\n",
    "\n",
    "print(favorite_lang)\n",
    "print(type(favorite_lang))"
   ]
  },
  {
   "cell_type": "markdown",
   "metadata": {},
   "source": [
    "# Nested Dictionary Error Solution"
   ]
  },
  {
   "cell_type": "code",
   "execution_count": 27,
   "metadata": {},
   "outputs": [
    {
     "name": "stdout",
     "output_type": "stream",
     "text": [
      "2\n"
     ]
    }
   ],
   "source": [
    "from typing import Union, TypedDict, Tuple, Set, List\n",
    "import pprint\n",
    "\n",
    "cdeDataType = TypedDict(\n",
    "    'cdeDataType',\n",
    "    {\n",
    "        \"a\": int,\n",
    "        \"b\": int\n",
    "    }\n",
    ")\n",
    "\n",
    "myDataType = TypedDict(\n",
    "    'myDataType', {\n",
    "        \"fname\": str,\n",
    "        \"name\": str,\n",
    "        \"education\": str,\n",
    "        \"abc\": List[int],\n",
    "        'xyz': Set[int],\n",
    "        'efg': Tuple,\n",
    "        'cde': cdeDataType\n",
    "    }\n",
    ")\n",
    "\n",
    "\n",
    "# Key = Union[int, str]  # create custom type\n",
    "# Value = Union[int, str, list, tuple, set]\n",
    "\n",
    "\n",
    "data: myDataType = {\n",
    "    \"fname\": \"Muhammad Aslam\",\n",
    "    \"name\": \"Muhammad Qasim\",\n",
    "    \"education\": \"MSDS\",\n",
    "    \"abc\": [1, 2, 3],\n",
    "    'xyz': {1, 2, 3},\n",
    "    'efg': (1, 2, 3),\n",
    "    'cde': {\"a\": 1, \"b\": 2}\n",
    "}\n",
    "\n",
    "print(data['cde']['b'])"
   ]
  }
 ],
 "metadata": {
  "kernelspec": {
   "display_name": "python12",
   "language": "python",
   "name": "python3"
  },
  "language_info": {
   "codemirror_mode": {
    "name": "ipython",
    "version": 3
   },
   "file_extension": ".py",
   "mimetype": "text/x-python",
   "name": "python",
   "nbconvert_exporter": "python",
   "pygments_lexer": "ipython3",
   "version": "3.12.3"
  }
 },
 "nbformat": 4,
 "nbformat_minor": 2
}
