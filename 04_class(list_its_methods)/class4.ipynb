{
 "cells": [
  {
   "cell_type": "markdown",
   "metadata": {},
   "source": [
    "# Python Lists Overview\n",
    "\n",
    "**List**\n",
    "  - Dynamic length\n",
    "  - Heterogeneous data types (multiple types)\n",
    "  - Index\n",
    "    - Positive: `0` to `n-1`\n",
    "    - Negative: `-1` to `-n` (length)\n",
    "\n",
    "  - Slicing\n",
    "    - Variable names: `list[start:end:step]`\n",
    "    - `start` (int): inclusive\n",
    "    - `end` (int): exclusive (up to `n-1`)\n",
    "    - `step` (int): sequence interval"
   ]
  },
  {
   "cell_type": "code",
   "execution_count": 4,
   "metadata": {},
   "outputs": [
    {
     "name": "stdout",
     "output_type": "stream",
     "text": [
      "Qasim\n",
      "Qasim\n",
      "Sir Zia\n",
      "3\n"
     ]
    }
   ],
   "source": [
    "# old way\n",
    "# ->        0          1       2\n",
    "names = [\"Qasim\",\"Sir Zia\",\"Sir Inam\"] # length-1 \n",
    "# <-        -3       -2        -1\n",
    "\n",
    "print(names[0]) # Qasim\n",
    "print(names[-3]) # Qasim\n",
    "print(names[-2]) # Sir Zia\n",
    "print(len(names))"
   ]
  },
  {
   "cell_type": "code",
   "execution_count": 10,
   "metadata": {},
   "outputs": [
    {
     "name": "stdout",
     "output_type": "stream",
     "text": [
      "['Asad', 'Ali', True, 20]\n",
      "Ali\n",
      "<class 'list'>\n",
      "<class 'bool'>\n"
     ]
    }
   ],
   "source": [
    "from typing import Any\n",
    "names : list[Any] = ['Asad', 'Ali', True, 20]\n",
    "print(names)\n",
    "print(names[-3])\n",
    "print(type(names))\n",
    "print(type(names[-2]))"
   ]
  },
  {
   "cell_type": "code",
   "execution_count": 11,
   "metadata": {},
   "outputs": [
    {
     "name": "stdout",
     "output_type": "stream",
     "text": [
      "Founder of PIAIC is : SIR ZIA\n"
     ]
    }
   ],
   "source": [
    "names : list[str] = [\"Qasim\",\"Sir Zia\",\"Sir Inam\"]\n",
    "print(f'Founder of PIAIC is : {names[-2].upper()}')"
   ]
  },
  {
   "cell_type": "code",
   "execution_count": 14,
   "metadata": {},
   "outputs": [
    {
     "name": "stdout",
     "output_type": "stream",
     "text": [
      "True\n"
     ]
    }
   ],
   "source": [
    "names: list[str] = [True,\"Sir Zia\",2]\n",
    "\n",
    "print(names[-3])"
   ]
  },
  {
   "cell_type": "code",
   "execution_count": 17,
   "metadata": {},
   "outputs": [
    {
     "data": {
      "text/plain": [
       "['H', 'e', 'l', 'l', 'o']"
      ]
     },
     "execution_count": 17,
     "metadata": {},
     "output_type": "execute_result"
    }
   ],
   "source": [
    "list('Hello')"
   ]
  },
  {
   "cell_type": "code",
   "execution_count": 22,
   "metadata": {},
   "outputs": [
    {
     "name": "stdout",
     "output_type": "stream",
     "text": [
      "['A', 'B', 'C', 'D', 'E', 'F', 'G', 'H', 'I', 'J', 'K', 'L', 'M', 'N', 'O', 'P', 'Q', 'R', 'S', 'T', 'U', 'V', 'W', 'X', 'Y', 'X', 'Y', 'Z']\n"
     ]
    }
   ],
   "source": [
    "characters : list[str] = list('ABCDEFGHIJKLMNOPQRSTUVWXYXYZ')\n",
    "print(characters)"
   ]
  },
  {
   "cell_type": "code",
   "execution_count": 23,
   "metadata": {},
   "outputs": [
    {
     "name": "stdout",
     "output_type": "stream",
     "text": [
      "['A', 'B', 'C', 'D', 'E', 'F', 'G', 'H', 'I', 'J', 'K', 'L', 'M', 'N', 'O', 'P', 'Q']\n"
     ]
    }
   ],
   "source": [
    "print(characters[0:17])"
   ]
  },
  {
   "cell_type": "code",
   "execution_count": 20,
   "metadata": {},
   "outputs": [
    {
     "name": "stdout",
     "output_type": "stream",
     "text": [
      "['A', 'B']\n",
      "['A', 'B']\n",
      "['A', 'B']\n",
      "['A', 'B']\n",
      "['A', 'B']\n"
     ]
    }
   ],
   "source": [
    "# defualt slicing go from left to right\n",
    "print(characters[0:2]) # 0= include : index 2-1 = 1\n",
    "print(characters[:2]) # not pass any number = all\n",
    "print(characters[-26:-24])# 0= include : index -24-1 = -25\n",
    "print(characters[0:2:1]) # 0= include : index 2-1 = 1\n",
    "print(characters[0:2:]) # 0= include : index 2-1 = 1"
   ]
  },
  {
   "cell_type": "code",
   "execution_count": 25,
   "metadata": {},
   "outputs": [
    {
     "name": "stdout",
     "output_type": "stream",
     "text": [
      "['A', 'B', 'C', 'D', 'E', 'F', 'G', 'H', 'I', 'J', 'K', 'L', 'M', 'N', 'O', 'P', 'Q', 'R', 'S', 'T', 'U', 'V', 'W', 'X', 'Y', 'X', 'Y', 'Z']\n"
     ]
    }
   ],
   "source": [
    "print(characters[::])\n",
    "# This effectively means that characters[::] will return the entire sequence from start to end, with every element included."
   ]
  },
  {
   "cell_type": "code",
   "execution_count": 26,
   "metadata": {},
   "outputs": [
    {
     "name": "stdout",
     "output_type": "stream",
     "text": [
      "['A', 'C', 'E', 'G', 'I', 'K', 'M', 'O', 'Q', 'S', 'U', 'W', 'Y', 'Y']\n"
     ]
    }
   ],
   "source": [
    "print(characters[::2])"
   ]
  },
  {
   "cell_type": "code",
   "execution_count": 28,
   "metadata": {},
   "outputs": [
    {
     "name": "stdout",
     "output_type": "stream",
     "text": [
      "['B', 'C', 'D', 'E']\n"
     ]
    }
   ],
   "source": [
    "characters : list[str] = ['A', 'B', 'C', 'D', 'E', 'F', 'G', 'H']\n",
    "\n",
    "print(characters[1:-3])"
   ]
  },
  {
   "cell_type": "code",
   "execution_count": 34,
   "metadata": {},
   "outputs": [
    {
     "name": "stdout",
     "output_type": "stream",
     "text": [
      "['C']\n"
     ]
    }
   ],
   "source": [
    "\n",
    "#                          0    1    2    3    4   5     6    7\n",
    "characters : list[str] = ['A', 'B', 'C', 'D', 'E', 'F', 'G', 'H']\n",
    "#                         -8    -7   -6  -5    -4   -3   -2   -1\n",
    "\n",
    "# iteration slicing ->\n",
    "# step -> positive\n",
    "# step <- negative\n",
    "print(characters[-2:-5]) "
   ]
  },
  {
   "cell_type": "code",
   "execution_count": 35,
   "metadata": {},
   "outputs": [
    {
     "name": "stdout",
     "output_type": "stream",
     "text": [
      "['G', 'F', 'E']\n"
     ]
    }
   ],
   "source": [
    "#                          0    1    2    3    4   5     6    7\n",
    "characters : list[str] = ['A', 'B', 'C', 'D', 'E', 'F', 'G', 'H']\n",
    "#                         -8    -7   -6  -5    -4   -3   -2   -1\n",
    "\n",
    "# iteration slicing ->\n",
    "# step -> positive\n",
    "# step <- negative\n",
    "print(characters[-2:-5:-1]) "
   ]
  },
  {
   "cell_type": "code",
   "execution_count": 37,
   "metadata": {},
   "outputs": [
    {
     "name": "stdout",
     "output_type": "stream",
     "text": [
      "['Z', 'Y', 'X', 'W', 'V', 'U', 'T', 'S', 'R', 'Q', 'P', 'O', 'N', 'M', 'L', 'K', 'J', 'I', 'H', 'G', 'F', 'E', 'D', 'C', 'B', 'A']\n"
     ]
    }
   ],
   "source": [
    "characters : list[str] = ['A', 'B', 'C', 'D', 'E', 'F', 'G', 'H', 'I', 'J', 'K', 'L', 'M', 'N', 'O', 'P', 'Q', 'R', 'S', 'T', 'U', 'V', 'W', 'X', 'Y', 'Z']\n",
    "\n",
    "print(characters[::-1])"
   ]
  },
  {
   "cell_type": "markdown",
   "metadata": {},
   "source": [
    "### List methods"
   ]
  },
  {
   "cell_type": "code",
   "execution_count": 39,
   "metadata": {},
   "outputs": [
    {
     "data": {
      "text/plain": [
       "['append',\n",
       " 'clear',\n",
       " 'copy',\n",
       " 'count',\n",
       " 'extend',\n",
       " 'index',\n",
       " 'insert',\n",
       " 'pop',\n",
       " 'remove',\n",
       " 'reverse',\n",
       " 'sort']"
      ]
     },
     "execution_count": 39,
     "metadata": {},
     "output_type": "execute_result"
    }
   ],
   "source": [
    "[i for i in dir(list) if \"_\" not in i]"
   ]
  },
  {
   "cell_type": "code",
   "execution_count": 46,
   "metadata": {},
   "outputs": [
    {
     "name": "stdout",
     "output_type": "stream",
     "text": [
      "<class 'list'>\n"
     ]
    }
   ],
   "source": [
    "new_list : list[str] = [1,2,3]\n",
    "\n",
    "print(new_list)"
   ]
  },
  {
   "cell_type": "code",
   "execution_count": 47,
   "metadata": {},
   "outputs": [
    {
     "ename": "NameError",
     "evalue": "name 'new_list' is not defined",
     "output_type": "error",
     "traceback": [
      "\u001b[1;31m---------------------------------------------------------------------------\u001b[0m",
      "\u001b[1;31mNameError\u001b[0m                                 Traceback (most recent call last)",
      "Cell \u001b[1;32mIn[47], line 2\u001b[0m\n\u001b[0;32m      1\u001b[0m \u001b[38;5;28;01mdel\u001b[39;00m new_list\n\u001b[1;32m----> 2\u001b[0m \u001b[38;5;28mprint\u001b[39m(\u001b[43mnew_list\u001b[49m)\n",
      "\u001b[1;31mNameError\u001b[0m: name 'new_list' is not defined"
     ]
    }
   ],
   "source": [
    "del new_list\n",
    "print(new_list)"
   ]
  },
  {
   "cell_type": "code",
   "execution_count": 48,
   "metadata": {},
   "outputs": [
    {
     "name": "stdout",
     "output_type": "stream",
     "text": [
      "[]\n"
     ]
    }
   ],
   "source": [
    "new_list : list[int] = [1,2,3]\n",
    "\n",
    "new_list.clear()\n",
    "print(new_list)"
   ]
  },
  {
   "cell_type": "code",
   "execution_count": 49,
   "metadata": {},
   "outputs": [
    {
     "name": "stdout",
     "output_type": "stream",
     "text": [
      "['Qasim', 'Sir Zia', 'Sir Inam', 20, True]\n",
      "['Qasim', 'Sir Zia', 'Sir Inam', True]\n"
     ]
    }
   ],
   "source": [
    "names : list[Any] = [\"Qasim\",\"Sir Zia\", \"Sir Inam\", 20, True]\n",
    "# <-                    -3     -2          -1\n",
    "\n",
    "print(names)\n",
    "\n",
    "del names[3] # delete 3 index element\n",
    "\n",
    "print(names)"
   ]
  },
  {
   "cell_type": "code",
   "execution_count": 52,
   "metadata": {},
   "outputs": [
    {
     "name": "stdout",
     "output_type": "stream",
     "text": [
      "Pakistan\n",
      "None\n"
     ]
    }
   ],
   "source": [
    "a : str = print(\"Pakistan\") # none-return function\n",
    "print(a)"
   ]
  },
  {
   "cell_type": "code",
   "execution_count": 53,
   "metadata": {},
   "outputs": [
    {
     "data": {
      "text/plain": [
       "2893872730752"
      ]
     },
     "metadata": {},
     "output_type": "display_data"
    }
   ],
   "source": [
    "a : str = id(names) # return function\n",
    "display(a)"
   ]
  },
  {
   "cell_type": "code",
   "execution_count": 54,
   "metadata": {},
   "outputs": [
    {
     "data": {
      "text/plain": [
       "['Qasim', 'Sir Zia', 'Sir Inam', True]"
      ]
     },
     "execution_count": 54,
     "metadata": {},
     "output_type": "execute_result"
    }
   ],
   "source": [
    "# ->                    0        1         2\n",
    "names : list[Any] = [\"Qasim\",\"Sir Zia\", \"Sir Inam\", 20, True]\n",
    "# <-                    -3     -2          -1\n",
    "\n",
    "del names[3]\n",
    "names"
   ]
  },
  {
   "cell_type": "markdown",
   "metadata": {},
   "source": [
    "### Pop method"
   ]
  },
  {
   "cell_type": "code",
   "execution_count": 55,
   "metadata": {},
   "outputs": [
    {
     "name": "stdout",
     "output_type": "stream",
     "text": [
      "['Qasim', 'Sir Zia', 'Sir Inam', 20, True]\n",
      "True\n"
     ]
    }
   ],
   "source": [
    "# ->                    0        1         2\n",
    "names : list[Any] = [\"Qasim\",\"Sir Zia\", \"Sir Inam\", 20, True]\n",
    "# <-\n",
    "print(names)\n",
    "a : str = names.pop() # pop return method\n",
    "# The pop() method removes the last element of the list and returns it.\n",
    "# In our case, the last element of the list is True, so a gets assigned the value True, and print(a) outputs True.\n",
    "print(a)"
   ]
  },
  {
   "cell_type": "markdown",
   "metadata": {},
   "source": [
    "### Append method add element in last"
   ]
  },
  {
   "cell_type": "code",
   "execution_count": 71,
   "metadata": {},
   "outputs": [
    {
     "name": "stdout",
     "output_type": "stream",
     "text": [
      "20\n",
      "['Qasim', 'Sir Zia', 'Sir Inam', True, 23]\n"
     ]
    }
   ],
   "source": [
    "names : list[Any] = [\"Qasim\",\"Sir Zia\", \"Sir Inam\", 20, True]\n",
    "\n",
    "a : Any = names.pop(3)\n",
    "print(a)\n",
    "names.append(23)\n",
    "print(names)"
   ]
  },
  {
   "cell_type": "markdown",
   "metadata": {},
   "source": [
    "* names.insert(index, element)"
   ]
  },
  {
   "cell_type": "code",
   "execution_count": 85,
   "metadata": {},
   "outputs": [],
   "source": [
    "names.insert(0, 'Aaminah')"
   ]
  },
  {
   "cell_type": "code",
   "execution_count": 90,
   "metadata": {},
   "outputs": [
    {
     "name": "stdout",
     "output_type": "stream",
     "text": [
      "[1, 2, 3, 'A']\n"
     ]
    }
   ],
   "source": [
    "n_list : list[Any] = [1,2,3]\n",
    "n_list.insert(3, 'A')\n",
    "print(n_list)"
   ]
  },
  {
   "cell_type": "code",
   "execution_count": 91,
   "metadata": {},
   "outputs": [
    {
     "name": "stdout",
     "output_type": "stream",
     "text": [
      "Pakistan zinda bad\n",
      "None\n"
     ]
    }
   ],
   "source": [
    "print(print(\"Pakistan zinda bad\"))"
   ]
  },
  {
   "cell_type": "code",
   "execution_count": 98,
   "metadata": {},
   "outputs": [
    {
     "name": "stdout",
     "output_type": "stream",
     "text": [
      "['a', 'b', 'c']\n",
      "['a', 'b', 'c']\n",
      "['a', 'b']\n",
      "['a', 'b']\n",
      "[2, 3, 4, 'a', 'b']\n"
     ]
    }
   ],
   "source": [
    "a : list[str] = ['a','b','c']\n",
    "b = a\n",
    "print(a)\n",
    "print(b)\n",
    "b.pop()\n",
    "print(a)\n",
    "print(b)\n",
    "a1 : list[str] = [2,3,4]\n",
    "print(a1 + b)"
   ]
  },
  {
   "cell_type": "code",
   "execution_count": 99,
   "metadata": {},
   "outputs": [
    {
     "name": "stdout",
     "output_type": "stream",
     "text": [
      "['a', 'b', 'c']\n",
      "['a', 'b', 'c']\n",
      "['pakistan', 'b', 'c']\n",
      "['pakistan', 'b', 'c']\n"
     ]
    }
   ],
   "source": [
    "a : list[str] = ['a','b','c']\n",
    "b = a # shallow copy\n",
    "print(a)\n",
    "print(b)\n",
    "\n",
    "b[0] = 'pakistan' # change only b variable but both variable updated\n",
    "\n",
    "print(a)\n",
    "print(b)"
   ]
  },
  {
   "cell_type": "code",
   "execution_count": 104,
   "metadata": {},
   "outputs": [
    {
     "name": "stdout",
     "output_type": "stream",
     "text": [
      "['a', 'f', 'r']\n",
      "['a', 'f']\n",
      "['a', 'f', 'r']\n",
      "a ['a', 'f']\n",
      "b ['pakistan', 'f', 'r']\n"
     ]
    }
   ],
   "source": [
    "a : list[str] = ['a', 'f', 'r']\n",
    "b = a.copy() # deep copy\n",
    "\n",
    "print(b)\n",
    "a.pop()\n",
    "print(a)\n",
    "print(b)\n",
    "\n",
    "b[0] = 'pakistan' \n",
    "print(\"a\",a)\n",
    "print(\"b\",b)"
   ]
  },
  {
   "cell_type": "code",
   "execution_count": 117,
   "metadata": {},
   "outputs": [
    {
     "name": "stdout",
     "output_type": "stream",
     "text": [
      "0\n",
      "I have been teaching since 7 years.\n",
      "['I', 'h', 'a', 'v', 'e', 'b', 'e', 'e', 'n', 't', 'e', 'a', 'c', 'h', 'i', 'n', 'g', 's', 'i', 'n', 'c', 'e', 'y', 'e', 'a', 'r', 's']\n",
      "3\n"
     ]
    }
   ],
   "source": [
    "a_list : list[str]= [\"I have been teaching since 7 years.\"]\n",
    "print(a_list.count('a')) # will print 0\n",
    "\n",
    "string = a_list[0]\n",
    "print(string) # will print string content\n",
    "\n",
    "char_list = [char for char in string if char.isalpha()]\n",
    "print(char_list)\n",
    "\n",
    "print(char_list.count('a'))"
   ]
  },
  {
   "cell_type": "code",
   "execution_count": 118,
   "metadata": {},
   "outputs": [
    {
     "name": "stdout",
     "output_type": "stream",
     "text": [
      "['Samia', 'Arooj', 'abc']\n"
     ]
    }
   ],
   "source": [
    "new_staff : list[str] = ['Samia', 'Arooj']\n",
    "new_staff.append('abc')\n",
    "print(new_staff)"
   ]
  },
  {
   "cell_type": "code",
   "execution_count": 119,
   "metadata": {},
   "outputs": [
    {
     "name": "stdout",
     "output_type": "stream",
     "text": [
      "['Samia', 'Arooj', 'a', 'b', 'c']\n"
     ]
    }
   ],
   "source": [
    "new_staff : list[str] = ['Samia', 'Arooj']\n",
    "new_staff.extend('abc')\n",
    "print(new_staff)"
   ]
  },
  {
   "cell_type": "code",
   "execution_count": 123,
   "metadata": {},
   "outputs": [
    {
     "name": "stdout",
     "output_type": "stream",
     "text": [
      "['Samia', 'Arooj', 'abc', 'xyz']\n"
     ]
    }
   ],
   "source": [
    "new_staff : list[str] = ['Samia', 'Arooj']\n",
    "new_staff1 : list[str] = ['abc', 'xyz']\n",
    "new_staff.extend(new_staff1)\n",
    "print(new_staff)"
   ]
  },
  {
   "cell_type": "code",
   "execution_count": 124,
   "metadata": {},
   "outputs": [
    {
     "data": {
      "text/plain": [
       "['Sir Zia', 'Dr Noman']"
      ]
     },
     "execution_count": 124,
     "metadata": {},
     "output_type": "execute_result"
    }
   ],
   "source": [
    "names : list[str] = [\"Sir Zia\",\"Muhammad Qasim\",'Sir Inam',\"Dr Noman\"] # GenAI founder members\n",
    "\n",
    "\n",
    "del names[1:3]\n",
    "\n",
    "names"
   ]
  },
  {
   "cell_type": "code",
   "execution_count": 125,
   "metadata": {},
   "outputs": [
    {
     "data": {
      "text/plain": [
       "['Sir Zia', 'Sir Inam', 'Dr Noman']"
      ]
     },
     "execution_count": 125,
     "metadata": {},
     "output_type": "execute_result"
    }
   ],
   "source": [
    "names :list[str] = ['Sir Zia', 'Muhammad Qasim', 'Sir Inam', 'Dr Noman']\n",
    "\n",
    "names.remove(\"Muhammad Qasim\") # remove with text value\n",
    "\n",
    "names"
   ]
  },
  {
   "cell_type": "code",
   "execution_count": 126,
   "metadata": {},
   "outputs": [
    {
     "data": {
      "text/plain": [
       "1"
      ]
     },
     "execution_count": 126,
     "metadata": {},
     "output_type": "execute_result"
    }
   ],
   "source": [
    "names :list[str] = ['Sir Zia', 'Muhammad Qasim', 'Sir Inam', 'Dr Noman']\n",
    "\n",
    "names.index(\"Muhammad Qasim\") # 1"
   ]
  },
  {
   "cell_type": "code",
   "execution_count": 127,
   "metadata": {},
   "outputs": [
    {
     "name": "stdout",
     "output_type": "stream",
     "text": [
      "['A', 'C', 'B', 'D', 'E', 'F']\n",
      "['F', 'E', 'D', 'B', 'C', 'A']\n"
     ]
    }
   ],
   "source": [
    "names :list[str] = list(\"ACBDEF\")\n",
    "print(names)\n",
    "names.reverse() #in-memory = change real data\n",
    "print(names)"
   ]
  },
  {
   "cell_type": "code",
   "execution_count": 128,
   "metadata": {},
   "outputs": [
    {
     "name": "stdout",
     "output_type": "stream",
     "text": [
      "['A', 'C', 'B', 'D', 'E', 'F']\n",
      "['A', 'B', 'C', 'D', 'E', 'F']\n"
     ]
    }
   ],
   "source": [
    "names :list[str] = list(\"ACBDEF\")\n",
    "print(names)\n",
    "names.sort() #in-memory = change real data sort\n",
    "print(names)"
   ]
  },
  {
   "cell_type": "code",
   "execution_count": 131,
   "metadata": {},
   "outputs": [
    {
     "name": "stdout",
     "output_type": "stream",
     "text": [
      "['A', 'C', 'B', 'D', 'E', 'F']\n",
      "['F', 'E', 'D', 'B', 'C', 'A']\n"
     ]
    }
   ],
   "source": [
    "names :list[str] = list(\"ACBDEF\")\n",
    "print(names)\n",
    "names.reverse()\n",
    "print(names)"
   ]
  },
  {
   "cell_type": "code",
   "execution_count": 132,
   "metadata": {},
   "outputs": [
    {
     "name": "stdout",
     "output_type": "stream",
     "text": [
      "['A', 'C', 'B', 'D', 'E', 'F']\n",
      "['A', 'B', 'C', 'D', 'E', 'F']\n"
     ]
    }
   ],
   "source": [
    "names :list[str] = list(\"ACBDEF\")\n",
    "print(names)\n",
    "names.sort() #in-memory = change real data sort\n",
    "print(names)"
   ]
  },
  {
   "cell_type": "code",
   "execution_count": 133,
   "metadata": {},
   "outputs": [
    {
     "name": "stdout",
     "output_type": "stream",
     "text": [
      "6\n"
     ]
    },
    {
     "ename": "IndexError",
     "evalue": "list index out of range",
     "output_type": "error",
     "traceback": [
      "\u001b[1;31m---------------------------------------------------------------------------\u001b[0m",
      "\u001b[1;31mIndexError\u001b[0m                                Traceback (most recent call last)",
      "Cell \u001b[1;32mIn[133], line 3\u001b[0m\n\u001b[0;32m      1\u001b[0m names :\u001b[38;5;28mlist\u001b[39m[\u001b[38;5;28mstr\u001b[39m] \u001b[38;5;241m=\u001b[39m \u001b[38;5;28mlist\u001b[39m(\u001b[38;5;124m\"\u001b[39m\u001b[38;5;124mACBDEF\u001b[39m\u001b[38;5;124m\"\u001b[39m)\n\u001b[0;32m      2\u001b[0m \u001b[38;5;28mprint\u001b[39m(\u001b[38;5;28mlen\u001b[39m(names))\n\u001b[1;32m----> 3\u001b[0m \u001b[43mnames\u001b[49m\u001b[43m[\u001b[49m\u001b[38;5;241;43m25\u001b[39;49m\u001b[43m]\u001b[49m\n",
      "\u001b[1;31mIndexError\u001b[0m: list index out of range"
     ]
    }
   ],
   "source": [
    "names :list[str] = list(\"ACBDEF\")\n",
    "print(len(names))\n",
    "names[25]"
   ]
  }
 ],
 "metadata": {
  "kernelspec": {
   "display_name": "python12",
   "language": "python",
   "name": "python3"
  },
  "language_info": {
   "codemirror_mode": {
    "name": "ipython",
    "version": 3
   },
   "file_extension": ".py",
   "mimetype": "text/x-python",
   "name": "python",
   "nbconvert_exporter": "python",
   "pygments_lexer": "ipython3",
   "version": "3.12.3"
  }
 },
 "nbformat": 4,
 "nbformat_minor": 2
}
